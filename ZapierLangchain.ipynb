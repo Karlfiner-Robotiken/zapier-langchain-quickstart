{
 "cells": [
  {
   "cell_type": "code",
   "execution_count": 34,
   "id": "1c38fa93-a267-43af-9f88-4a3a72c848f6",
   "metadata": {},
   "outputs": [],
   "source": [
    "import os\n",
    "%load_ext dotenv\n",
    "%dotenv\n",
    "from langchain.llms import OpenAI\n",
    "from langchain.agents import initialize_agent\n",
    "from langchain.agents.agent_toolkits import ZapierToolkit\n",
    "from langchain.utilities.zapier import ZapierNLAWrapper"
   ]
  },
  {
   "cell_type": "code",
   "execution_count": 35,
   "id": "e5f00136-0f38-46f2-918b-969d4c02707d",
   "metadata": {},
   "outputs": [],
   "source": [
    "llm = OpenAI(temperature=0)\n",
    "zapier = ZapierNLAWrapper()\n",
    "toolkit = ZapierToolkit.from_zapier_nla_wrapper(zapier)\n",
    "agent = initialize_agent(toolkit.get_tools(), llm, agent=\"zero-shot-react-description\", verbose=True)"
   ]
  },
  {
   "cell_type": "code",
   "execution_count": 36,
   "id": "4525d66e-b40b-42bf-9dfb-0f901a479074",
   "metadata": {},
   "outputs": [
    {
     "name": "stdout",
     "output_type": "stream",
     "text": [
      "\n",
      "\n",
      "\u001b[1m> Entering new AgentExecutor chain...\u001b[0m\n",
      "\u001b[32;1m\u001b[1;3m I need to craft an email that will convince Dylan to visit the website.\n",
      "Action: Gmail: Send Email\n",
      "Action Input: Send an email to Dylan@starmorph.com with the subject \"Visit Starmorph.com to Help Your Small Business Integrate GPT-3 Services Today\" and the body \"Dear Dylan, \n",
      "\n",
      "Are you looking for a way to help your small business integrate GPT-3 services? Look no further than Starmorph.com! Our website provides a comprehensive suite of tools and services to help you get the most out of GPT-3. \n",
      "\n",
      "Visit Starmorph.com today to learn more about how we can help you get the most out of GPT-3. \n",
      "\n",
      "[Hyperlink to Starmorph.com]\n",
      "\n",
      "Sincerely, \n",
      "\n",
      "[Your Name]\n",
      "\n",
      "Cc: [Your Email]\n",
      "\"\u001b[0m\n",
      "Observation: \u001b[36;1m\u001b[1;3m{\"labelIds\": \"UNREAD, Label_2285473055360660832, SENT, INBOX\"}\u001b[0m\n",
      "Thought:\u001b[32;1m\u001b[1;3m The email has been sent.\n",
      "Final Answer: The email has been sent to Dylan@starmorph.com with the subject \"Visit Starmorph.com to Help Your Small Business Integrate GPT-3 Services Today\" and the body \"Dear Dylan, \n",
      "\n",
      "Are you looking for a way to help your small business integrate GPT-3 services? Look no further than Starmorph.com! Our website provides a comprehensive suite of tools and services to help you get the most out of GPT-3. \n",
      "\n",
      "Visit Starmorph.com today to learn more about how we can help you get the most out of GPT-3. \n",
      "\n",
      "[Hyperlink to Starmorph.com]\n",
      "\n",
      "Sincerely, \n",
      "\n",
      "[Your Name]\n",
      "\n",
      "Cc: [Your Email]\n",
      "\".\u001b[0m\n",
      "\n",
      "\u001b[1m> Finished chain.\u001b[0m\n"
     ]
    },
    {
     "data": {
      "text/plain": [
       "'The email has been sent to Dylan@starmorph.com with the subject \"Visit Starmorph.com to Help Your Small Business Integrate GPT-3 Services Today\" and the body \"Dear Dylan, \\n\\nAre you looking for a way to help your small business integrate GPT-3 services? Look no further than Starmorph.com! Our website provides a comprehensive suite of tools and services to help you get the most out of GPT-3. \\n\\nVisit Starmorph.com today to learn more about how we can help you get the most out of GPT-3. \\n\\n[Hyperlink to Starmorph.com]\\n\\nSincerely, \\n\\n[Your Name]\\n\\nCc: [Your Email]\\n\".'"
      ]
     },
     "execution_count": 36,
     "metadata": {},
     "output_type": "execute_result"
    }
   ],
   "source": [
    "agent.run(\"Send an Email to Dylan@starmorph.com via gmail that is a pitch for why you should visit https://starmorph.com to help your small business integrate GPT-3 services today. Provide a hyperlink to the website and make the email likely to convert to website visitors.\")"
   ]
  }
 ],
 "metadata": {
  "kernelspec": {
   "display_name": "Python 3 (ipykernel)",
   "language": "python",
   "name": "python3"
  },
  "language_info": {
   "codemirror_mode": {
    "name": "ipython",
    "version": 3
   },
   "file_extension": ".py",
   "mimetype": "text/x-python",
   "name": "python",
   "nbconvert_exporter": "python",
   "pygments_lexer": "ipython3",
   "version": "3.9.12"
  }
 },
 "nbformat": 4,
 "nbformat_minor": 5
}
